{
  "nbformat": 4,
  "nbformat_minor": 0,
  "metadata": {
    "colab": {
      "name": "pytorch 6 linear regration.ipynb",
      "provenance": [],
      "collapsed_sections": []
    },
    "kernelspec": {
      "name": "python3",
      "display_name": "Python 3"
    }
  },
  "cells": [
    {
      "cell_type": "markdown",
      "metadata": {
        "id": "NmEtHpjUZzjH",
        "colab_type": "text"
      },
      "source": [
        "\n",
        "## steps in pipeline\n",
        "1.   design model (input,output size,forward pass)\n",
        "2.   construct loss and optimizer\n",
        "3.   training loop\n",
        "\n",
        "  - forward pass : compute prediction\n",
        "  - backward pass : gradients\n",
        "  - update weights \n",
        "\n"
      ]
    },
    {
      "cell_type": "code",
      "metadata": {
        "id": "mvVHdijQZczb",
        "colab_type": "code",
        "colab": {}
      },
      "source": [
        "import torch\n",
        "import torch.nn as nn\n",
        "import numpy as np\n",
        "from sklearn import datasets\n",
        "import matplotlib.pyplot as plt"
      ],
      "execution_count": 1,
      "outputs": []
    },
    {
      "cell_type": "code",
      "metadata": {
        "id": "0kF7_Wy7l1yv",
        "colab_type": "code",
        "colab": {}
      },
      "source": [
        "# prepare data\n",
        "X_numpy, y_numpy = datasets.make_regression(n_samples=100,n_features=1,noise=20,\n",
        "                                            random_state = 1)"
      ],
      "execution_count": 2,
      "outputs": []
    },
    {
      "cell_type": "code",
      "metadata": {
        "id": "lt-qc6l_mcO3",
        "colab_type": "code",
        "colab": {}
      },
      "source": [
        "X = torch.from_numpy(X_numpy.astype(np.float32))\n",
        "y = torch.from_numpy(y_numpy.astype(np.float32))\n",
        "y = y.view(y.shape[0],1)"
      ],
      "execution_count": 3,
      "outputs": []
    },
    {
      "cell_type": "code",
      "metadata": {
        "id": "tgaYQiLKm-mJ",
        "colab_type": "code",
        "colab": {}
      },
      "source": [
        "#y\n",
        "n_samples, n_features =X.shape\n"
      ],
      "execution_count": 6,
      "outputs": []
    },
    {
      "cell_type": "code",
      "metadata": {
        "id": "6-fUH4m0nAMe",
        "colab_type": "code",
        "colab": {}
      },
      "source": [
        "# 1) model\n",
        "\n",
        "input_size = n_features\n",
        "output_size = 1\n",
        "\n",
        "model = nn.Linear(input_size, output_size)"
      ],
      "execution_count": 8,
      "outputs": []
    },
    {
      "cell_type": "code",
      "metadata": {
        "id": "3zs_Laezoaz6",
        "colab_type": "code",
        "colab": {}
      },
      "source": [
        "# 2) loss and optimizer\n",
        "\n",
        "learning_rate = 0.01\n",
        "criterion = nn.MSELoss()\n",
        "optimizer = torch.optim.SGD(model.parameters(),lr=learning_rate)"
      ],
      "execution_count": 9,
      "outputs": []
    },
    {
      "cell_type": "code",
      "metadata": {
        "id": "8VPLHAfCptB5",
        "colab_type": "code",
        "colab": {
          "base_uri": "https://localhost:8080/",
          "height": 433
        },
        "outputId": "cd417d97-9c88-4b17-81c4-0ced5581cc99"
      },
      "source": [
        "# training loop\n",
        "\n",
        "num_epochs = 100\n",
        "for epoch in range(num_epochs):\n",
        "\n",
        "  # forward pass and loss\n",
        "  y_predicted = model(X)\n",
        "  loss = criterion(y_predicted,y)\n",
        "\n",
        "  # backward pass\n",
        "  loss.backward()\n",
        "\n",
        "  # update\n",
        "  optimizer.step()\n",
        "\n",
        "  optimizer.zero_grad()\n",
        "\n",
        "  if (epoch+1) % 10 ==0:\n",
        "    print(f'epoch:{epoch+1},loss={loss.item():.4f}')\n",
        "\n",
        "# plot\n",
        "predicted = model(X).detach().numpy()\n",
        "plt.plot(X_numpy,y_numpy,'ro')\n",
        "plt.plot(X_numpy,predicted,'b')\n",
        "plt.show()\n",
        "\n",
        "\n",
        "\n",
        "\n"
      ],
      "execution_count": 10,
      "outputs": [
        {
          "output_type": "stream",
          "text": [
            "epoch:10,loss=4458.4551\n",
            "epoch:20,loss=3325.1946\n",
            "epoch:30,loss=2505.1252\n",
            "epoch:40,loss=1911.0658\n",
            "epoch:50,loss=1480.3042\n",
            "epoch:60,loss=1167.6704\n",
            "epoch:70,loss=940.5804\n",
            "epoch:80,loss=775.5002\n",
            "epoch:90,loss=655.4120\n",
            "epoch:100,loss=567.9969\n"
          ],
          "name": "stdout"
        },
        {
          "output_type": "display_data",
          "data": {
            "image/png": "[encoded data removed]",
            "text/plain": [
              "<Figure size 432x288 with 1 Axes>"
            ]
          },
          "metadata": {
            "tags": [],
            "needs_background": "light"
          }
        }
      ]
    },
    {
      "cell_type": "code",
      "metadata": {
        "id": "HQTO2PgGtI9n",
        "colab_type": "code",
        "colab": {}
      },
      "source": [
        ""
      ],
      "execution_count": null,
      "outputs": []
    }
  ]
}